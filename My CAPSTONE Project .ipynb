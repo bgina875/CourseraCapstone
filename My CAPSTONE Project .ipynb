{
    "cells": [
        {
            "cell_type": "markdown",
            "metadata": {},
            "source": "### New Jersey 2018 Point-In-Time Count of the Homeless \nNJ Counts 2018, New Jersey\u2019s annual Point-In-Time (PIT) Count of the Homeless, provides a statewide snapshot of households experiencing homelessness in our communities; where they find shelter, what their needs are, and what factors contribute to making them homeless.\n\nIncome and Benefits  \n \nAmong all households experiencing homelessness on the night of the count, 42.1% had no source of income, and 12.6% reported having earned income. The most common sources of income among homeless households were SSI (14%) and Earned Income (12.6%). \n \nDemographics\n\nThere were a total of 810 (8.7%) identified homeless adults between 18 and 24 years old, 6,464 (69.5%) adults over age 24, and 2,029 (21.8%) children under 18 years old experiencing homelessness on the night of the count. "
        },
        {
            "cell_type": "markdown",
            "metadata": {},
            "source": "### Description of the Problem:\nA portion of the 25-54 adults can be assumed as parents of the children age 0-14.  One of the reasons why parents can\u2019t work is due to the fact that they need to take care of their children. "
        },
        {
            "cell_type": "markdown",
            "metadata": {},
            "source": "### Observations on Age Range and Reason with Housing Situation:\n1) 42.1% had no source of income <br>\n2) Adults 25-54 are the top age range with housing situation.  This adult age range can be assumed as parents of children that needs child care and age range could be 0-14.  "
        },
        {
            "cell_type": "markdown",
            "metadata": {},
            "source": "### Proposal:\nIf there is a program for teenagers 15-18 that are high school students that can babysit and allow parents to work then a portion of the problem can be solved.  The financial aid savings for homeless can be re-directed to teenagers to get paid for babysitting and have them spent their free time for community service as well (instead of spending time in social media or computer gaming activities)\n\nDescription of the Data and How it will solve the Problem:\nIdentify the locations for all Homeless Housing Types such as: Emergency Shelter, Transitional, Unsheltered and Safe Haven\nIdentify High School locations to find teenagers who can work in the Government Funded location after school hours\n3) Identify a Location where a Government Funded Child Care Center can be provided"
        },
        {
            "cell_type": "markdown",
            "metadata": {},
            "source": "### Description of the Data and How it will solve the Problem: \n\n1) Identify the locations for all Homeless Housing Types such as: Emergency Shelter, Transitional, Unsheltered and Safe Haven.  Extract NJ Township, Number of Homeless Persons, Percentage.  Use the Township with the highest Homeless Percentage.  Find the cluster of Homeless Housing Type and Number of Homeless per Housing. <br>\n2) Identify High School locations to find teenagers who can work in the Government Funded location after school hours. Find High School locations in the identified cluster of Homeless Housing Type <br>\n3) Identify a Location where a Government Funded Child Care Center can be provided."
        },
        {
            "cell_type": "code",
            "execution_count": 1,
            "metadata": {},
            "outputs": [],
            "source": "import pandas as pd\nfrom pandas import DataFrame"
        },
        {
            "cell_type": "code",
            "execution_count": 2,
            "metadata": {},
            "outputs": [
                {
                    "data": {
                        "text/html": "<div>\n<style scoped>\n    .dataframe tbody tr th:only-of-type {\n        vertical-align: middle;\n    }\n\n    .dataframe tbody tr th {\n        vertical-align: top;\n    }\n\n    .dataframe thead th {\n        text-align: right;\n    }\n</style>\n<table border=\"1\" class=\"dataframe\">\n  <thead>\n    <tr style=\"text-align: right;\">\n      <th></th>\n      <th>Township</th>\n      <th>Number of Homeless Persons</th>\n      <th>% of Homeless Persons</th>\n    </tr>\n  </thead>\n  <tbody>\n    <tr>\n      <th>0</th>\n      <td>Belleville</td>\n      <td>2</td>\n      <td>0</td>\n    </tr>\n    <tr>\n      <th>1</th>\n      <td>Bloomfield</td>\n      <td>8</td>\n      <td>0</td>\n    </tr>\n    <tr>\n      <th>2</th>\n      <td>Newark</td>\n      <td>1928</td>\n      <td>88</td>\n    </tr>\n  </tbody>\n</table>\n</div>",
                        "text/plain": "     Township Number of Homeless Persons % of Homeless Persons\n0  Belleville                          2                     0\n1  Bloomfield                          8                     0\n2      Newark                       1928                    88"
                    },
                    "execution_count": 2,
                    "metadata": {},
                    "output_type": "execute_result"
                }
            ],
            "source": "df = DataFrame ({'Township': ['Belleville', 'Bloomfield', 'Newark'],\n                 'Number of Homeless Persons': ['2', '8', '1928'],\n                 '% of Homeless Persons': ['0', '0', '88']})\ndf"
        }
    ],
    "metadata": {
        "kernelspec": {
            "display_name": "Python 3.6",
            "language": "python",
            "name": "python3"
        },
        "language_info": {
            "codemirror_mode": {
                "name": "ipython",
                "version": 3
            },
            "file_extension": ".py",
            "mimetype": "text/x-python",
            "name": "python",
            "nbconvert_exporter": "python",
            "pygments_lexer": "ipython3",
            "version": "3.6.9"
        }
    },
    "nbformat": 4,
    "nbformat_minor": 1
}